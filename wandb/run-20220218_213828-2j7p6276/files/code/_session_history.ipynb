{
 "cells": [
  {
   "cell_type": "code",
   "execution_count": 1,
   "id": "8cd1c06e",
   "metadata": {},
   "outputs": [],
   "source": [
    "%%time\n",
    "tf.distribute.experimental.MultiWorkerMirroredStrategy(\n",
    "    communication=tf.distribute.experimental.CollectiveCommunication.AUTO,\n",
    "    cluster_resolver=None\n",
    ")\n",
    "\n",
    "train(train_ds, EPOCHS)\n",
    "\n",
    "Audio(url=the_creation, autoplay=True, rate=48000)"
   ]
  },
  {
   "cell_type": "code",
   "execution_count": 2,
   "id": "e7690d14",
   "metadata": {},
   "outputs": [
    {
     "name": "stdout",
     "output_type": "stream",
     "text": [
      "<IPython.lib.display.Audio object>"
     ]
    },
    {
     "data": {
      "text/html": [
       "\n",
       "                    Syncing run <strong><a href=\"https://wandb.ai/skycladai/Anime%20Creation/runs/2j7p6276\" target=\"_blank\">soft-plasma-23</a></strong> to <a href=\"https://wandb.ai/skycladai/Anime%20Creation\" target=\"_blank\">Weights & Biases</a> (<a href=\"https://docs.wandb.com/integrations/jupyter.html\" target=\"_blank\">docs</a>).<br/>\n",
       "\n",
       "                "
      ],
      "text/plain": [
       "<IPython.core.display.HTML object>"
      ]
     },
     "metadata": {},
     "output_type": "display_data"
    }
   ],
   "source": [
    "from IPython.display import Audio\n",
    "from IPython import display\n",
    "the_voice = './sounds/chose_a_voice.wav'\n",
    "the_creation = './sounds/You_created_me.wav'\n",
    "\n",
    "import tensorflow as tf\n",
    "from tensorflow import keras\n",
    "\n",
    "# Error: Node: 'sequential_3/dropout_4/dropout/random_uniform/RandomUniform'\n",
    "# OOM when allocating tensor with shape[256,180,120,32] and type float on /job:localhost/replica:0/task:0/device:GPU:0 by allocator GPU_0_bfc\n",
    "# \t [[{{node sequential_3/dropout_4/dropout/random_uniform/RandomUniform}}]]\n",
    "# the solution to thi is report_tensor_allocations_upon_oom = True\n",
    "\n",
    "import os\n",
    "os.environ['TF_GPU_ALLOCATOR'] = 'cuda_malloc_async'\n",
    "print(os.getenv('TF_GPU_ALLOCATOR'))\n",
    "\n",
    "\n",
    "run_opts = tf.compat.v1.RunOptions(report_tensor_allocations_upon_oom=True)\n",
    "runmeta = tf.compat.v1.RunMetadata()\n",
    "\n",
    "from tensorflow.keras import layers\n",
    "import glob\n",
    "import matplotlib.pyplot as plt\n",
    "import numpy as np\n",
    "import os\n",
    "import PIL\n",
    "import time\n",
    "import wandb\n",
    "\n",
    "# pip install wandb\n",
    "# wandb login\n",
    "# 65bacd21c40b0085e299e05ea94b552d5119b7bc\n",
    "\n",
    "wandb.init(project=\"Anime Creation\", entity=\"skycladai\")\n",
    "\n",
    "print(\"Note! You will need tensorflow-gpu version 2.8.0 or higher. Your version is\", tf.__version__)\n",
    "print(tf.config.list_physical_devices('GPU'))\n",
    "\n",
    "Audio(url=the_voice, autoplay=True, rate=48000)"
   ]
  },
  {
   "cell_type": "code",
   "execution_count": 3,
   "id": "19f5223d",
   "metadata": {},
   "outputs": [],
   "source": [
    "from IPython.display import Audio\n",
    "from IPython import display\n",
    "the_voice = './sounds/chose_a_voice.wav'\n",
    "the_creation = './sounds/You_created_me.wav'\n",
    "\n",
    "import tensorflow as tf\n",
    "from tensorflow import keras\n",
    "\n",
    "# Error: Node: 'sequential_3/dropout_4/dropout/random_uniform/RandomUniform'\n",
    "# OOM when allocating tensor with shape[256,180,120,32] and type float on /job:localhost/replica:0/task:0/device:GPU:0 by allocator GPU_0_bfc\n",
    "# \t [[{{node sequential_3/dropout_4/dropout/random_uniform/RandomUniform}}]]\n",
    "# the solution to thi is report_tensor_allocations_upon_oom = True\n",
    "\n",
    "import os\n",
    "os.environ['TF_GPU_ALLOCATOR'] = 'cuda_malloc_async'\n",
    "\n",
    "\n",
    "run_opts = tf.compat.v1.RunOptions(report_tensor_allocations_upon_oom=True)\n",
    "runmeta = tf.compat.v1.RunMetadata()\n",
    "tf.distribute.experimental.MultiWorkerMirroredStrategy(\n",
    "    communication=tf.distribute.experimental.CollectiveCommunication.AUTO,\n",
    "    cluster_resolver=None\n",
    ")\n",
    "\n",
    "\n",
    "from tensorflow.keras import layers\n",
    "import glob\n",
    "import matplotlib.pyplot as plt\n",
    "import numpy as np\n",
    "import os\n",
    "import PIL\n",
    "import time\n",
    "import wandb\n",
    "\n",
    "# pip install wandb\n",
    "# wandb login\n",
    "# 65bacd21c40b0085e299e05ea94b552d5119b7bc\n",
    "\n",
    "wandb.init(project=\"Anime Creation\", entity=\"skycladai\")\n",
    "\n",
    "print(\"Note! You will need tensorflow-gpu version 2.8.0 or higher. Your version is\", tf.__version__)\n",
    "print(tf.config.list_physical_devices('GPU'))\n",
    "\n",
    "Audio(url=the_voice, autoplay=True, rate=48000)"
   ]
  }
 ],
 "metadata": {
  "kernelspec": {
   "display_name": "Python 3",
   "language": "python",
   "name": "python3"
  },
  "language_info": {
   "codemirror_mode": {
    "name": "ipython",
    "version": 3
   },
   "file_extension": ".py",
   "mimetype": "text/x-python",
   "name": "python",
   "nbconvert_exporter": "python",
   "pygments_lexer": "ipython3",
   "version": "3.9.7"
  }
 },
 "nbformat": 4,
 "nbformat_minor": 5
}
