{
 "cells": [
  {
   "cell_type": "markdown",
   "metadata": {},
   "source": [
    "# Anime Generation\n",
    "## DCGAN \n",
    "\n",
    "> Data pre-processing [here](https://www.tensorflow.org/tutorials/load_data/images)"
   ]
  },
  {
   "cell_type": "code",
   "execution_count": null,
   "metadata": {},
   "outputs": [],
   "source": [
    "from IPython.display import Audio\n",
    "from IPython import display\n",
    "the_voice = './sounds/chose_a_voice.wav'\n",
    "the_creation = './sounds/You_created_me.wav'\n",
    "\n",
    "import tensorflow as tf\n",
    "# Error: Node: 'sequential_3/dropout_4/dropout/random_uniform/RandomUniform'\n",
    "# OOM when allocating tensor with shape[256,180,120,32] and type float on /job:localhost/replica:0/task:0/device:GPU:0 by allocator GPU_0_bfc\n",
    "# \t [[{{node sequential_3/dropout_4/dropout/random_uniform/RandomUniform}}]]\n",
    "# the solution to thi is report_tensor_allocations_upon_oom = True\n",
    "run_opts = tf.compat.v1.RunOptions(report_tensor_allocations_upon_oom=True)\n",
    "runmeta = tf.compat.v1.RunMetadata()\n",
    "physical_devices = tf.config.list_physical_devices(\"GPU\")\n",
    "tf.config.experimental.set_memory_growth(physical_devices[0], True)\n",
    "tf.distribute.MultiWorkerMirroredStrategy(\n",
    "    cluster_resolver=None, communication_options=None\n",
    ")\n",
    "\n",
    "import os\n",
    "os.environ['TF_GPU_ALLOCATOR'] = 'cuda_malloc_async'\n",
    "os.environ['WANDB_NOTEBOOK_NAME'] = 'Anime Faces and Names'\n",
    "os.environ[\"TF_CPP_MIN_LOG_LEVEL\"] = \"2\"\n",
    "import time\n",
    "from tensorflow import keras\n",
    "from tensorflow.keras import layers\n",
    "import glob\n",
    "import matplotlib.pyplot as plt\n",
    "import numpy as np\n",
    "import imageio\n",
    "import tensorflow_docs\n",
    "import PIL\n",
    "import wandb\n",
    "# from train.dcgan import DCGAN\n",
    "# pip install wandb\n",
    "# wandb login\n",
    "# 65bacd21c40b0085e299e05ea94b552d5119b7bc\n",
    "\n",
    "# wandb.init(project=\"Anime Creation\", entity=\"skycladai\")\n",
    "\n",
    "print(\"Note! You will need tensorflow-gpu version 2.8.0 or higher. Your version is\", tf.__version__)\n",
    "\n",
    "Audio(url=the_voice, autoplay=True, rate=48000)"
   ]
  },
  {
   "cell_type": "markdown",
   "metadata": {},
   "source": [
    "> Configuration"
   ]
  },
  {
   "cell_type": "code",
   "execution_count": null,
   "metadata": {},
   "outputs": [],
   "source": [
    "# BATCH_SIZE = 254 # or 64 this cause memory allocation failure\n",
    "BATCH_SIZE = 8\n",
    "IMAGE_WIDTH = 240\n",
    "IMAGE_LENGTH = 360\n",
    "ORIGINAL_IMAGE_SIZE = (360, 240)\n",
    "RGB = 3\n",
    "BUFFER_SIZE = 58085\n",
    "EPOCHS = 80\n",
    "noise_dim = 100\n",
    "num_examples_to_generate = 9\n",
    "wandb.config = {\n",
    "  \"learning_rate\": 0.001,\n",
    "  \"epochs\": EPOCHS,\n",
    "  \"batch_size\": BATCH_SIZE\n",
    "}\n",
    "# dcgan = DCGAN(batch_size= BATCH_SIZE, n_noise= noise_dim, num_examples_to_generate=num_examples_to_generate)\n"
   ]
  },
  {
   "cell_type": "markdown",
   "metadata": {},
   "source": [
    "# Load Dataset"
   ]
  },
  {
   "cell_type": "code",
   "execution_count": null,
   "metadata": {},
   "outputs": [],
   "source": [
    "%%time\n",
    "\n",
    "x_train = tf.keras.preprocessing.image_dataset_from_directory( directory=\"./dataset/\", validation_split=0.3, subset=\"training\" ,label_mode=None, batch_size=BATCH_SIZE, image_size=ORIGINAL_IMAGE_SIZE, seed=123 , shuffle=BUFFER_SIZE)\n",
    "x_test = tf.keras.preprocessing.image_dataset_from_directory( directory=\"./dataset/\", validation_split=0.3, subset=\"validation\" ,label_mode=None, batch_size=BATCH_SIZE, image_size=ORIGINAL_IMAGE_SIZE, seed=123, shuffle=BUFFER_SIZE)\n",
    "    \n",
    "plt.figure(figsize=(10, 10))\n",
    "plt.title(\"Training Images\")\n",
    "for images in x_train.take(1):\n",
    "  print(images.shape)\n",
    "  for i in range(6):\n",
    "    ax = plt.subplot(3, 3, i + 1)\n",
    "    plt.imshow(images[i].numpy().astype(\"uint8\"))\n",
    "    plt.axis(\"off\")\n"
   ]
  },
  {
   "cell_type": "markdown",
   "metadata": {},
   "source": [
    "> Cashe Dataset"
   ]
  },
  {
   "cell_type": "code",
   "execution_count": null,
   "metadata": {},
   "outputs": [],
   "source": [
    "%%time\n",
    "print(\"Wall time: 5min 22s\")\n",
    "# Cache keeps the images in memory after they're loaded off disk during the first epoch. \n",
    "# This will ensure the dataset does not become a bottleneck while training your model. \n",
    "# Prefetch overlaps data preprocessing and model execution while training.\n",
    "# This allows later elements to be prepared while the current element is being processed. \n",
    "# This often improves latency and throughput, at the cost of using additional memory to store prefetched elements.\n",
    "def configure_for_performance(ds, name):\n",
    "    ds = ds.cache(name)\n",
    "    ds = ds.shuffle(buffer_size=2000)\n",
    "    ds = ds.prefetch(buffer_size=tf.data.AUTOTUNE)\n",
    "    return ds\n",
    "\n",
    "normalized_ds = x_train.map(tf.keras.layers.Rescaling(1./255))\n",
    "# print(normalized_ds)\n",
    "# Cashe, shuffle and prefetch the data\n",
    "train_ds = configure_for_performance(normalized_ds, \"./cache/training_cashe\")\n",
    "val_ds = configure_for_performance(x_test, \"./cache/testing_cashe\")\n",
    "for image_batch in train_ds:\n",
    "    print(image_batch.shape)\n",
    "    print(\"In range between: \", np.min(image_batch[0]),\" and: \", np.max(image_batch[0]))\n",
    "    break\n"
   ]
  },
  {
   "cell_type": "markdown",
   "metadata": {},
   "source": [
    "## DCGAN \n",
    "> Generator"
   ]
  },
  {
   "cell_type": "code",
   "execution_count": null,
   "metadata": {},
   "outputs": [],
   "source": [
    "def generator_model():\n",
    "    print(\"Generating DCGAN model.\")\n",
    "    model = tf.keras.Sequential()\n",
    "    model.add(layers.Dense(45*30*256, use_bias=False, input_shape=(100,)))\n",
    "    #     model.add(layers.BatchNormalization())\n",
    "    #     model.add(layers.LeakyReLU(alpha=0.2))\n",
    "\n",
    "    model.add(layers.Reshape((45, 30, 256)))\n",
    "    assert model.output_shape == (None, 45, 30, 256)  # Note: None is the batch size\n",
    "\n",
    "    model.add(layers.Conv2DTranspose(128, (5, 5), strides=(1, 1), padding='same', use_bias=False))\n",
    "    assert model.output_shape == (None, 45, 30, 128)\n",
    "\n",
    "    #     model.add(layers.BatchNormalization())\n",
    "    model.add(layers.LeakyReLU(alpha=0.2))\n",
    "    model.add(layers.Conv2DTranspose(64, (5, 5), strides=(2, 2), padding='same', use_bias=False))\n",
    "    assert model.output_shape == (None, 90, 60, 64)\n",
    "\n",
    "    #     model.add(layers.BatchNormalization())\n",
    "    model.add(layers.LeakyReLU(alpha=0.2))\n",
    "    model.add(layers.Conv2DTranspose(32, (5, 5), strides=(2, 2), padding='same', use_bias=False))\n",
    "    assert model.output_shape == (None, 180, 120, 32)\n",
    "\n",
    "    #     model.add(layers.BatchNormalization())\n",
    "    model.add(layers.LeakyReLU(alpha=0.2))\n",
    "    model.add(layers.Conv2DTranspose(3, (5, 5), strides=(2, 2), padding='same', use_bias=False, activation='tanh'))\n",
    "    assert model.output_shape == (None, 360, 240, 3)\n",
    "\n",
    "    print(\"DCGAN model completed\")\n",
    "    return model\n",
    "\n",
    "def generator_loss(fake_output):\n",
    "    return cross_entropy(tf.ones_like(fake_output), fake_output)"
   ]
  },
  {
   "cell_type": "code",
   "execution_count": null,
   "metadata": {},
   "outputs": [],
   "source": [
    "%%time\n",
    "\n",
    "noise = tf.random.normal([1, 100])\n",
    "generator = generator_model()\n",
    "generated_image = generator(noise)\n",
    "print(generated_image.shape)\n",
    "plt.imshow(generated_image[0, :, :, 0])\n",
    "generator.summary()"
   ]
  },
  {
   "cell_type": "markdown",
   "metadata": {},
   "source": [
    "> Discriminator "
   ]
  },
  {
   "cell_type": "code",
   "execution_count": null,
   "metadata": {},
   "outputs": [],
   "source": [
    "def discriminator_model():\n",
    "    print(\"DCGAN descriminator model\")\n",
    "    model = tf.keras.Sequential()\n",
    "    model.add(layers.Conv2D(32, (5, 5), strides=(2, 2), padding='same',\n",
    "                                    input_shape=[360, 240, 3]))\n",
    "    model.add(layers.LeakyReLU())\n",
    "    #     model.add(layers.Dropout(0.3))\n",
    "\n",
    "    model.add(layers.Conv2D(64, (5, 5), strides=(2, 2), padding='same'))\n",
    "    model.add(layers.LeakyReLU(alpha=0.2))\n",
    "    #     model.add(layers.Dropout(0.3))\n",
    "\n",
    "    model.add(layers.Conv2D(128, (5, 5), strides=(2, 2), padding='same'))\n",
    "    model.add(layers.LeakyReLU(alpha=0.2))\n",
    "    #     model.add(layers.Dropout(0.3))\n",
    "\n",
    "    model.add(layers.Conv2D(256, (5, 5), strides=(2, 2), padding='same'))\n",
    "    model.add(layers.LeakyReLU(alpha=0.2))\n",
    "    #     model.add(layers.Dropout(0.3))\n",
    "\n",
    "    model.add(layers.Flatten())\n",
    "    model.add(layers.Dropout(0.3))\n",
    "    model.add(layers.Dense(1))\n",
    "    print(model.output_shape)\n",
    "    print(\"DCGAN descriminator Completed!!\")\n",
    "    return model\n",
    "\n",
    "def discriminator_loss(real_output, fake_output):\n",
    "    real_loss = cross_entropy(tf.ones_like(real_output), real_output)\n",
    "    fake_loss = cross_entropy(tf.zeros_like(fake_output), fake_output)\n",
    "    total_loss = real_loss + fake_loss\n",
    "    return total_loss"
   ]
  },
  {
   "cell_type": "code",
   "execution_count": null,
   "metadata": {},
   "outputs": [],
   "source": [
    "discriminator = discriminator_model()\n",
    "decision = discriminator(generated_image)\n",
    "print(decision)\n",
    "discriminator.summary()"
   ]
  },
  {
   "cell_type": "markdown",
   "metadata": {},
   "source": [
    "> Save Checkpoints"
   ]
  },
  {
   "cell_type": "markdown",
   "metadata": {},
   "source": [
    "## Training DCGAN"
   ]
  },
  {
   "cell_type": "markdown",
   "metadata": {},
   "source": [
    "### Training definitions "
   ]
  },
  {
   "cell_type": "code",
   "execution_count": null,
   "metadata": {},
   "outputs": [],
   "source": [
    "cross_entropy = keras.losses.BinaryCrossentropy(from_logits=True)\n",
    "seed = tf.random.normal([num_examples_to_generate, noise_dim])\n",
    "\n",
    "@tf.function\n",
    "def train_step(images):\n",
    "    print(\"Training step\")\n",
    "\n",
    "    with tf.GradientTape() as gen_tape, tf.GradientTape() as disc_tape:\n",
    "        print(\"Generator for noise\")\n",
    "\n",
    "        generated_images = generator(noise)\n",
    "        print(\"Discriminator for images\")\n",
    "        real_out = discriminator(images)\n",
    "        print(\"Discriminator for noise\")\n",
    "        fake_out = discriminator(generated_images)\n",
    "\n",
    "        gen_loss = generator_loss(fake_out)\n",
    "        print(\"gen_loss :\",gen_loss)\n",
    "        disc_loss = discriminator_loss(real_output=real_out, fake_output=fake_out)\n",
    "        print(\"disc_loss :\",disc_loss)\n",
    "\n",
    "        gradients_of_generator = gen_tape.gradient(gen_loss, generator.trainable_variables)\n",
    "        gradients_of_discriminator = disc_tape.gradient(disc_loss, discriminator.trainable_variables)\n",
    "\n",
    "        generator_optimizer.apply_gradients(zip(gradients_of_generator, generator.trainable_variables))\n",
    "        discriminator_optimizer.apply_gradients(zip(gradients_of_discriminator, discriminator.trainable_variables))\n"
   ]
  },
  {
   "cell_type": "code",
   "execution_count": null,
   "metadata": {},
   "outputs": [],
   "source": [
    "def train(dataset, epochs):\n",
    "    print(\"Training Start...\")\n",
    "    for epoch in range(epochs):\n",
    "        print(\"Epoch :\", epoch)\n",
    "        start = time.time()\n",
    "\n",
    "        for image_batch in dataset:\n",
    "            train_step(image_batch)\n",
    "\n",
    "        # Produce images for the GIF as you go\n",
    "        display.clear_output(wait=True)\n",
    "        generate_and_save_images(generator, epoch + 1, seed)\n",
    "\n",
    "        # Save the model every 15 epochs\n",
    "        if (epoch + 1) % 15 == 0:\n",
    "            checkpoint.save(file_prefix = checkpoint_prefix)\n",
    "\n",
    "        print ('Time for epoch {} is {} sec'.format(epoch + 1, time.time()-start))\n",
    "\n",
    "    with tf.compat.v1.Session() as sess:\n",
    "        wandb.tensorflow.log(tf.summary.merge_all())\n",
    "\n",
    "        # Generate after the final epoch\n",
    "        display.clear_output(wait=True)\n",
    "        generate_and_save_images(generator, epochs, seed)"
   ]
  },
  {
   "cell_type": "markdown",
   "metadata": {},
   "source": [
    "### Save and plot images"
   ]
  },
  {
   "cell_type": "code",
   "execution_count": null,
   "metadata": {},
   "outputs": [],
   "source": [
    "def generate_and_save_images(model, epoch, test_input):\n",
    "    # Notice `training` is set to False.\n",
    "    # This is so all layers run in inference mode (batchnorm).\n",
    "    predictions = model(test_input)\n",
    "\n",
    "    fig = plt.figure(figsize=(10, 10))\n",
    "    print(predictions)\n",
    "    print(predictions.shape)\n",
    "    for i in range(predictions.shape[0]):\n",
    "        plt.subplot(3, 3, i+1)\n",
    "        plt.imshow(predictions[i, :, :, 0] * 127.5 + 127.5 )\n",
    "        plt.axis('off')\n",
    "\n",
    "    plt.savefig('./generated_images/image_at_epoch_{:04d}.png'.format(epoch))\n",
    "    plt.show()"
   ]
  },
  {
   "cell_type": "markdown",
   "metadata": {},
   "source": [
    "### Optimizer and Checkpoint "
   ]
  },
  {
   "cell_type": "code",
   "execution_count": null,
   "metadata": {},
   "outputs": [],
   "source": [
    "generator_optimizer = tf.keras.optimizers.Adam(1e-4)\n",
    "discriminator_optimizer = tf.keras.optimizers.Adam(1e-4)\n",
    "\n",
    "checkpoint_dir = './training_checkpoints'\n",
    "checkpoint_prefix = os.path.join(checkpoint_dir, \"ckpt\")\n",
    "checkpoint = tf.train.Checkpoint(\n",
    "    generator_optimizer=generator_optimizer,\n",
    "    discriminator_optimizer=discriminator_optimizer,\n",
    "    generator=generator,\n",
    "    discriminator=discriminator)"
   ]
  },
  {
   "cell_type": "markdown",
   "metadata": {},
   "source": [
    "> Actual Train"
   ]
  },
  {
   "cell_type": "code",
   "execution_count": null,
   "metadata": {},
   "outputs": [],
   "source": [
    "%%time\n",
    "\n",
    "train(dataset=train_ds, epochs=EPOCHS)\n",
    "\n",
    "Audio(url=the_creation, autoplay=True, rate=48000)"
   ]
  },
  {
   "cell_type": "code",
   "execution_count": null,
   "metadata": {},
   "outputs": [],
   "source": [
    "# checkpoint.restore(tf.train.latest_checkpoint(checkpoint_dir))"
   ]
  },
  {
   "cell_type": "markdown",
   "metadata": {},
   "source": [
    " ## Create a GIF"
   ]
  },
  {
   "cell_type": "code",
   "execution_count": null,
   "metadata": {},
   "outputs": [],
   "source": [
    "%%time\n",
    "# Display a single image using the epoch number\n",
    "def display_image(epoch_no):\n",
    "  return PIL.Image.open('./generated_images/image_at_epoch_{:04d}.png'.format(epoch_no))\n",
    "display_image(6)\n"
   ]
  },
  {
   "cell_type": "code",
   "execution_count": null,
   "metadata": {},
   "outputs": [],
   "source": [
    "anim_file = 'dcgan.gif'\n",
    "\n",
    "with imageio.get_writer(anim_file, mode='I') as writer:\n",
    "  filenames = glob.glob('image*.png')\n",
    "  filenames = sorted(filenames)\n",
    "  for filename in filenames:\n",
    "    image = imageio.imread(filename)\n",
    "    writer.append_data(image)\n",
    "  image = imageio.imread(filename)\n",
    "  writer.append_data(image)"
   ]
  },
  {
   "cell_type": "code",
   "execution_count": null,
   "metadata": {},
   "outputs": [],
   "source": [
    "import tensorflow_docs.vis.embed as embed\n",
    "embed.embed_file(anim_file)"
   ]
  },
  {
   "cell_type": "code",
   "execution_count": null,
   "metadata": {},
   "outputs": [],
   "source": []
  }
 ],
 "metadata": {
  "interpreter": {
   "hash": "7139d3ec96369264d417f4ab347d9b038e4df9abf4bf8a696401e6bfea45ed2c"
  },
  "kernelspec": {
   "display_name": "Python 3 (ipykernel)",
   "language": "python",
   "name": "python3"
  },
  "language_info": {
   "codemirror_mode": {
    "name": "ipython",
    "version": 3
   },
   "file_extension": ".py",
   "mimetype": "text/x-python",
   "name": "python",
   "nbconvert_exporter": "python",
   "pygments_lexer": "ipython3",
   "version": "3.9.7"
  }
 },
 "nbformat": 4,
 "nbformat_minor": 2
}
